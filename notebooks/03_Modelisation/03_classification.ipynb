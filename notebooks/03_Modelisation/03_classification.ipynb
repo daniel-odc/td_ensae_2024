{
 "cells": [
  {
   "cell_type": "code",
   "id": "initial_id",
   "metadata": {
    "collapsed": true,
    "ExecuteTime": {
     "end_time": "2024-11-25T17:35:14.454697Z",
     "start_time": "2024-11-25T17:34:59.020173Z"
    }
   },
   "source": [
    "# # Modèle de classification SVM\n",
    "\n",
    "# # Chargement de la donnée:\n",
    "\n",
    "import requests\n",
    "\n",
    "url = \"https://raw.githubusercontent.com/linogaliana/python-datascientist/main/content/modelisation/get_data.py\"\n",
    "r = requests.get(url, allow_redirects=True)\n",
    "open(\"getdata.py\", \"wb\").write(r.content)\n",
    "\n",
    "import getdata\n",
    "\n",
    "votes = getdata.create_votes_dataframes()\n",
    "votes.head(2)"
   ],
   "outputs": [
    {
     "data": {
      "text/plain": [
       "  STATEFP COUNTYFP  COUNTYNS        AFFGEOID  GEOID      NAME LSAD  \\\n",
       "0      29      227  00758566  0500000US29227  29227     Worth   06   \n",
       "1      31      061  00835852  0500000US31061  31061  Franklin   06   \n",
       "\n",
       "        ALAND  AWATER                                           geometry  ...  \\\n",
       "0   690564983  493903  POLYGON ((-94.63203 40.57176, -94.53388 40.570...  ...   \n",
       "1  1491355860  487899  POLYGON ((-99.1794 40.35068, -98.72683 40.3504...  ...   \n",
       "\n",
       "  share_2008_democrat share_2008_other share_2008_republican  \\\n",
       "0            0.363714         0.034072              0.602215   \n",
       "1            0.284794         0.019974              0.695232   \n",
       "\n",
       "  share_2012_democrat  share_2012_other  share_2012_republican  \\\n",
       "0            0.325382          0.041031               0.633588   \n",
       "1            0.250000          0.026042               0.723958   \n",
       "\n",
       "   share_2016_democrat  share_2016_other  share_2016_republican      winner  \n",
       "0             0.186424          0.041109               0.772467  republican  \n",
       "1             0.149432          0.045427               0.805140  republican  \n",
       "\n",
       "[2 rows x 383 columns]"
      ],
      "text/html": [
       "<div>\n",
       "<style scoped>\n",
       "    .dataframe tbody tr th:only-of-type {\n",
       "        vertical-align: middle;\n",
       "    }\n",
       "\n",
       "    .dataframe tbody tr th {\n",
       "        vertical-align: top;\n",
       "    }\n",
       "\n",
       "    .dataframe thead th {\n",
       "        text-align: right;\n",
       "    }\n",
       "</style>\n",
       "<table border=\"1\" class=\"dataframe\">\n",
       "  <thead>\n",
       "    <tr style=\"text-align: right;\">\n",
       "      <th></th>\n",
       "      <th>STATEFP</th>\n",
       "      <th>COUNTYFP</th>\n",
       "      <th>COUNTYNS</th>\n",
       "      <th>AFFGEOID</th>\n",
       "      <th>GEOID</th>\n",
       "      <th>NAME</th>\n",
       "      <th>LSAD</th>\n",
       "      <th>ALAND</th>\n",
       "      <th>AWATER</th>\n",
       "      <th>geometry</th>\n",
       "      <th>...</th>\n",
       "      <th>share_2008_democrat</th>\n",
       "      <th>share_2008_other</th>\n",
       "      <th>share_2008_republican</th>\n",
       "      <th>share_2012_democrat</th>\n",
       "      <th>share_2012_other</th>\n",
       "      <th>share_2012_republican</th>\n",
       "      <th>share_2016_democrat</th>\n",
       "      <th>share_2016_other</th>\n",
       "      <th>share_2016_republican</th>\n",
       "      <th>winner</th>\n",
       "    </tr>\n",
       "  </thead>\n",
       "  <tbody>\n",
       "    <tr>\n",
       "      <th>0</th>\n",
       "      <td>29</td>\n",
       "      <td>227</td>\n",
       "      <td>00758566</td>\n",
       "      <td>0500000US29227</td>\n",
       "      <td>29227</td>\n",
       "      <td>Worth</td>\n",
       "      <td>06</td>\n",
       "      <td>690564983</td>\n",
       "      <td>493903</td>\n",
       "      <td>POLYGON ((-94.63203 40.57176, -94.53388 40.570...</td>\n",
       "      <td>...</td>\n",
       "      <td>0.363714</td>\n",
       "      <td>0.034072</td>\n",
       "      <td>0.602215</td>\n",
       "      <td>0.325382</td>\n",
       "      <td>0.041031</td>\n",
       "      <td>0.633588</td>\n",
       "      <td>0.186424</td>\n",
       "      <td>0.041109</td>\n",
       "      <td>0.772467</td>\n",
       "      <td>republican</td>\n",
       "    </tr>\n",
       "    <tr>\n",
       "      <th>1</th>\n",
       "      <td>31</td>\n",
       "      <td>061</td>\n",
       "      <td>00835852</td>\n",
       "      <td>0500000US31061</td>\n",
       "      <td>31061</td>\n",
       "      <td>Franklin</td>\n",
       "      <td>06</td>\n",
       "      <td>1491355860</td>\n",
       "      <td>487899</td>\n",
       "      <td>POLYGON ((-99.1794 40.35068, -98.72683 40.3504...</td>\n",
       "      <td>...</td>\n",
       "      <td>0.284794</td>\n",
       "      <td>0.019974</td>\n",
       "      <td>0.695232</td>\n",
       "      <td>0.250000</td>\n",
       "      <td>0.026042</td>\n",
       "      <td>0.723958</td>\n",
       "      <td>0.149432</td>\n",
       "      <td>0.045427</td>\n",
       "      <td>0.805140</td>\n",
       "      <td>republican</td>\n",
       "    </tr>\n",
       "  </tbody>\n",
       "</table>\n",
       "<p>2 rows × 383 columns</p>\n",
       "</div>"
      ]
     },
     "execution_count": 1,
     "metadata": {},
     "output_type": "execute_result"
    }
   ],
   "execution_count": 1
  },
  {
   "metadata": {
    "ExecuteTime": {
     "end_time": "2024-11-25T17:51:24.929108Z",
     "start_time": "2024-11-25T17:50:47.803630Z"
    }
   },
   "cell_type": "code",
   "source": [
    "# # Exercice 1:\n",
    "\n",
    "import pandas as pd\n",
    "from sklearn import svm\n",
    "import sklearn.metrics\n",
    "from sklearn.model_selection import train_test_split\n",
    "\n",
    "# # 1.1. Création de la dummy y de victoire des républicains\n",
    "votes[\"y\"] = (votes[\"votes_gop\"] > votes[\"votes_dem\"]).astype(int)\n",
    "\n",
    "# # 1.2. Création des échantillons d'entraînement et de validation\n",
    "xvars = [\n",
    "    \"Unemployment_rate_2019\",\n",
    "    \"Median_Household_Income_2019\",\n",
    "    \"Percent of adults with less than a high school diploma, 2015-19\",\n",
    "    \"Percent of adults with a bachelor's degree or higher, 2015-19\",\n",
    "]\n",
    "\n",
    "df = votes.loc[:, [\"y\"] + xvars]\n",
    "\n",
    "X_train, X_test, y_train, y_test = train_test_split(\n",
    "    df[xvars], df[[\"y\"]].values.ravel(), test_size=0.2, random_state=123\n",
    ")\n",
    "# X_train.head()\n",
    "# y_test\n",
    "\n",
    "# # 1.3. Entraînement du modèle et performances\n",
    "clf = svm.SVC(kernel=\"linear\", C=1).fit(X_train, y_train)\n",
    "y_pred = clf.predict(X_test)\n",
    "\n",
    "sc_accuracy = sklearn.metrics.accuracy_score(y_pred, y_test)\n",
    "sc_f1 = sklearn.metrics.f1_score(y_pred, y_test)\n",
    "sc_recall = sklearn.metrics.recall_score(y_pred, y_test)\n",
    "sc_precision = sklearn.metrics.precision_score(y_pred, y_test)\n",
    "\n",
    "out = pd.DataFrame.from_dict(\n",
    "    {\n",
    "        \"Accuracy\": [sc_accuracy],\n",
    "        \"Recall\": [sc_recall],\n",
    "        \"Precision\": [sc_precision],\n",
    "        \"F1\": [sc_f1],\n",
    "    },\n",
    "    orient=\"index\",\n",
    "    columns=[\"Score\"],\n",
    ")\n",
    "print(out.to_markdown())"
   ],
   "id": "dc33464bb9358cc4",
   "outputs": [
    {
     "name": "stdout",
     "output_type": "stream",
     "text": [
      "|           |    Score |\n",
      "|:----------|---------:|\n",
      "| Accuracy  | 0.882637 |\n",
      "| Recall    | 0.897297 |\n",
      "| Precision | 0.968872 |\n",
      "| F1        | 0.931712 |\n"
     ]
    }
   ],
   "execution_count": 5
  },
  {
   "metadata": {
    "ExecuteTime": {
     "end_time": "2024-11-25T17:48:07.667145Z",
     "start_time": "2024-11-25T17:48:07.453031Z"
    }
   },
   "cell_type": "code",
   "source": [
    "# # 1.4. Matrice de confusion\n",
    "\n",
    "import matplotlib.pyplot as plt\n",
    "\n",
    "predictions = clf.predict(X_test)\n",
    "cm = sklearn.metrics.confusion_matrix(y_test, predictions, labels=clf.classes_)\n",
    "disp = sklearn.metrics.ConfusionMatrixDisplay(\n",
    "    confusion_matrix=cm, display_labels=clf.classes_\n",
    ")\n",
    "disp.plot()\n",
    "\n",
    "# Réponse : Notre classifieur manque totalement les labels 0, qui sont minoritaires.\n",
    "# Une raison possible ? L'échelle des variables : le revenu a une\n",
    "# distribution qui peut écraser celle des autres variables,\n",
    "# dans un modèle linéaire. Il faut donc, a minima,\n",
    "# standardiser les variables.\n",
    "\n",
    "plt.savefig(\"confusion_matrix.png\")"
   ],
   "id": "1d151ef3a0c0deb7",
   "outputs": [
    {
     "data": {
      "text/plain": [
       "<Figure size 640x480 with 2 Axes>"
      ],
      "image/png": "[encoded data removed]"
     },
     "metadata": {},
     "output_type": "display_data"
    }
   ],
   "execution_count": 3
  },
  {
   "metadata": {
    "ExecuteTime": {
     "end_time": "2024-11-25T17:54:35.910305Z",
     "start_time": "2024-11-25T17:54:35.638166Z"
    }
   },
   "cell_type": "code",
   "source": [
    "# # 1.5. Refaire les questions précédentes avec des variables normalisées.\n",
    "import sklearn.preprocessing as preprocessing\n",
    "\n",
    "X = df[xvars]\n",
    "y = df[[\"y\"]]\n",
    "scaler = preprocessing.StandardScaler().fit(X)  # Ici on standardise\n",
    "X = scaler.transform(X)  # Ici on standardise\n",
    "\n",
    "X_train, X_test, y_train, y_test = train_test_split(\n",
    "    X, y.values.ravel(), test_size=0.2, random_state=0\n",
    ")\n",
    "\n",
    "clf = svm.SVC(kernel=\"linear\", C=1).fit(X_train, y_train)\n",
    "predictions = clf.predict(X_test)\n",
    "cm = sklearn.metrics.confusion_matrix(y_test, predictions, labels=clf.classes_)\n",
    "disp = sklearn.metrics.ConfusionMatrixDisplay(\n",
    "    confusion_matrix=cm, display_labels=clf.classes_\n",
    ")\n",
    "disp.plot()\n",
    "\n",
    "# Réponse : Non, standardiser les variables n'apporte pas de gain\n",
    "# Il faut donc aller plus loin : le problème ne vient pas de l'échelle mais du choix des variables.\n",
    "# C'est pour cette raison que l'étape de sélection de variable est cruciale.\n",
    "\n",
    "plt.savefig(\"confusion_matrix2.png\")"
   ],
   "id": "f1f19278280034e4",
   "outputs": [
    {
     "data": {
      "text/plain": [
       "<Figure size 640x480 with 2 Axes>"
      ],
      "image/png": "[encoded data removed]"
     },
     "metadata": {},
     "output_type": "display_data"
    }
   ],
   "execution_count": 9
  }
 ],
 "metadata": {
  "kernelspec": {
   "display_name": "Python 3",
   "language": "python",
   "name": "python3"
  },
  "language_info": {
   "codemirror_mode": {
    "name": "ipython",
    "version": 2
   },
   "file_extension": ".py",
   "mimetype": "text/x-python",
   "name": "python",
   "nbconvert_exporter": "python",
   "pygments_lexer": "ipython2",
   "version": "2.7.6"
  }
 },
 "nbformat": 4,
 "nbformat_minor": 5
}
