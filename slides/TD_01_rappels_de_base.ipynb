{
 "cells": [
  {
   "cell_type": "code",
   "execution_count": null,
   "id": "initial_id",
   "metadata": {
    "collapsed": true
   },
   "outputs": [],
   "source": [
    ""
   ]
  },
  {
   "metadata": {},
   "cell_type": "markdown",
   "source": [
    "# TD01: Rappels de base\n",
    "\n",
    "## Intro\n",
    "jhqjkhdqsjkhd\n",
    "\n",
    "---\n",
    "\n",
    "# Environnements Python, gestionnaire de modules et IDE\n",
    "TODO\n",
    "\n",
    "---\n",
    "\n",
    "# Rappel des bases du langage Python\n",
    "TODO\n",
    "\n",
    " \n"
   ],
   "id": "335df8ed75dd5745"
  },
  {
   "metadata": {},
   "cell_type": "markdown",
   "source": "",
   "id": "857b78850d239c8"
  }
 ],
 "metadata": {
  "kernelspec": {
   "display_name": "Python 3",
   "language": "python",
   "name": "python3"
  },
  "language_info": {
   "codemirror_mode": {
    "name": "ipython",
    "version": 2
   },
   "file_extension": ".py",
   "mimetype": "text/x-python",
   "name": "python",
   "nbconvert_exporter": "python",
   "pygments_lexer": "ipython2",
   "version": "2.7.6"
  }
 },
 "nbformat": 4,
 "nbformat_minor": 5
}
