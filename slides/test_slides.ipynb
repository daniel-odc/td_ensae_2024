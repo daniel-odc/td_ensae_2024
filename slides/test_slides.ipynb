{
 "cells": [
  {
   "metadata": {},
   "cell_type": "code",
   "outputs": [],
   "execution_count": null,
   "source": [
    "---\n",
    "title: \"My Talk\"\n",
    "author: \"Your Name\"\n",
    "format: revealjs\n",
    "---\n",
    "\n",
    "# Intro\n",
    "\n",
    "- This is a live Jupyter/Quarto slide\n",
    "- You can run code inside it\n",
    "\n",
    "```{python}\n",
    "x = [1, 2, 3, 4]\n",
    "sum(x)\n"
   ],
   "id": "265508dd18bd6885"
  },
  {
   "metadata": {},
   "cell_type": "markdown",
   "source": [
    "\n",
    "(Note: The code fence uses ```` ```{python} ```` when you want Quarto to execute it.)\n",
    "\n"
   ],
   "id": "12e6e1ae3b5d8680"
  }
 ],
 "metadata": {
  "kernelspec": {
   "display_name": "Python 3",
   "language": "python",
   "name": "python3"
  },
  "language_info": {
   "codemirror_mode": {
    "name": "ipython",
    "version": 2
   },
   "file_extension": ".py",
   "mimetype": "text/x-python",
   "name": "python",
   "nbconvert_exporter": "python",
   "pygments_lexer": "ipython2",
   "version": "2.7.6"
  }
 },
 "nbformat": 4,
 "nbformat_minor": 5
}
